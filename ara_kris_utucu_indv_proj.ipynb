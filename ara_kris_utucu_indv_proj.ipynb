{
 "cells": [
  {
   "cell_type": "code",
   "execution_count": 2,
   "metadata": {},
   "outputs": [],
   "source": [
    "# Name: Ara Kris Ütücü.\n",
    "# ID:   24062.\n"
   ]
  },
  {
   "cell_type": "code",
   "execution_count": 3,
   "metadata": {},
   "outputs": [],
   "source": [
    "\n",
    "import pandas as pd\n",
    "import numpy as np\n",
    "import matplotlib.pyplot as plt\n",
    "from scipy import stats\n",
    "from datetime import datetime\n",
    "import seaborn as sns  # a visualization library based on matplotlib\n",
    "from datetime import datetime\n",
    "import reverse_geocoder as r\n",
    "import reverse_geocoder as rg\n",
    "from geopy.distance import geodesic as g\n",
    "\n",
    "import warnings\n",
    "warnings.filterwarnings('ignore')\n",
    "\n",
    "sns.set(style=\"darkgrid\")\n",
    "\n",
    "%matplotlib inline\n"
   ]
  },
  {
   "cell_type": "code",
   "execution_count": 4,
   "metadata": {},
   "outputs": [],
   "source": [
    "taxi = pd.read_csv(\"taxi-trips.csv\")"
   ]
  },
  {
   "cell_type": "code",
   "execution_count": 5,
   "metadata": {},
   "outputs": [
    {
     "name": "stdout",
     "output_type": "stream",
     "text": [
      "Loading formatted geocoded file...\n"
     ]
    }
   ],
   "source": [
    "taxi['pickup_district'] = [i['name'] for i in r.search(\n",
    "    list(zip(\n",
    "        taxi.pickup_latitude, \n",
    "        taxi.pickup_longitude)))]\n",
    "\n",
    "taxi['dropoff_district'] = [i['name'] for i in r.search(\n",
    "    list(zip(\n",
    "        taxi.dropoff_latitude, \n",
    "        taxi.dropoff_longitude)))]\n"
   ]
  },
  {
   "cell_type": "code",
   "execution_count": 6,
   "metadata": {},
   "outputs": [
    {
     "name": "stdout",
     "output_type": "stream",
     "text": [
      "Manhattan           45329\n",
      "New York City       34625\n",
      "Long Island City    17787\n",
      "Weehawken           11334\n",
      "The Bronx            2777\n",
      "Name: pickup_district, dtype: int64\n"
     ]
    },
    {
     "data": {
      "text/plain": [
       "<matplotlib.axes._subplots.AxesSubplot at 0x21b3879f358>"
      ]
     },
     "execution_count": 6,
     "metadata": {},
     "output_type": "execute_result"
    },
    {
     "data": {
      "image/png": "[encoded data removed]",
      "text/plain": [
       "<Figure size 432x288 with 1 Axes>"
      ]
     },
     "metadata": {
      "needs_background": "light"
     },
     "output_type": "display_data"
    }
   ],
   "source": [
    "pickup_districts = taxi.pickup_district.value_counts()\n",
    "print(pickup_districts[:5])\n",
    "pickup_districts.head(5).plot(kind='bar')\n"
   ]
  },
  {
   "cell_type": "code",
   "execution_count": 7,
   "metadata": {},
   "outputs": [
    {
     "name": "stdout",
     "output_type": "stream",
     "text": [
      "Manhattan           44478\n",
      "New York City       31082\n",
      "Long Island City    19919\n",
      "Weehawken           10621\n",
      "Brooklyn             2059\n",
      "Name: dropoff_district, dtype: int64\n"
     ]
    },
    {
     "data": {
      "text/plain": [
       "<matplotlib.axes._subplots.AxesSubplot at 0x21b29a6ad68>"
      ]
     },
     "execution_count": 7,
     "metadata": {},
     "output_type": "execute_result"
    },
    {
     "data": {
      "image/png": "[encoded data removed]",
      "text/plain": [
       "<Figure size 432x288 with 1 Axes>"
      ]
     },
     "metadata": {
      "needs_background": "light"
     },
     "output_type": "display_data"
    }
   ],
   "source": [
    "dropoff_districts = taxi.dropoff_district.value_counts()\n",
    "print(dropoff_districts[:5])\n",
    "dropoff_districts.head(5).plot(kind='bar')\n"
   ]
  },
  {
   "cell_type": "code",
   "execution_count": 8,
   "metadata": {},
   "outputs": [],
   "source": [
    "taxi['distance'] = [ g(i,j).kilometers \n",
    "                    for i,j in zip(\n",
    "                        zip(taxi.pickup_latitude, \n",
    "                            taxi.pickup_longitude),\n",
    "                        zip(taxi.dropoff_latitude, \n",
    "                            taxi.dropoff_longitude))]"
   ]
  },
  {
   "cell_type": "code",
   "execution_count": 9,
   "metadata": {},
   "outputs": [],
   "source": [
    "import datetime\n",
    "def parse_time(dtime):\n",
    "    return datetime.datetime.strptime(dtime,'%Y-%m-%d %H:%M:%S')\n",
    "\n",
    "def parse(dtime):\n",
    "    d = parse_time(dtime)\n",
    "    h = d.hour\n",
    "    if 0 <= h < 7:\n",
    "        return \"late night\"\n",
    "    elif 7 <= h < 9:\n",
    "        return \"rush hour morning\"\n",
    "    elif 9 <=h < 16:\n",
    "        return \"after noon\"\n",
    "    elif 16 <= h < 18:\n",
    "        return \"rush hour evening\"\n",
    "    elif h < 23:\n",
    "        return \"evening\"\n",
    "    else:\n",
    "        return \"late night\"\n",
    "    \n",
    "taxi['time'] = [parse(i) for i in taxi.pickup_datetime]"
   ]
  },
  {
   "cell_type": "code",
   "execution_count": 10,
   "metadata": {},
   "outputs": [],
   "source": [
    "taxi['duration'] = [(parse_time(i)-parse_time(j)).total_seconds()/60 \n",
    "                    for i,j in zip(taxi.dropoff_datetime,taxi.pickup_datetime)]"
   ]
  },
  {
   "cell_type": "code",
   "execution_count": 11,
   "metadata": {},
   "outputs": [
    {
     "name": "stdout",
     "output_type": "stream",
     "text": [
      "                time  distance\n",
      "0         after noon  3.109986\n",
      "1            evening  3.378136\n",
      "2         late night  4.117635\n",
      "3  rush hour evening  3.342814\n",
      "4  rush hour morning  3.128280\n"
     ]
    },
    {
     "data": {
      "text/plain": [
       "<matplotlib.axes._subplots.AxesSubplot at 0x21b29d6b400>"
      ]
     },
     "execution_count": 11,
     "metadata": {},
     "output_type": "execute_result"
    },
    {
     "data": {
      "image/png": "[encoded data removed]",
      "text/plain": [
       "<Figure size 432x288 with 1 Axes>"
      ]
     },
     "metadata": {
      "needs_background": "light"
     },
     "output_type": "display_data"
    }
   ],
   "source": [
    "mean_dist = taxi[['distance','time']].groupby(['time'], as_index=False).mean()\n",
    "print(mean_dist)\n",
    "mean_dist.plot(kind='bar')"
   ]
  },
  {
   "cell_type": "code",
   "execution_count": 12,
   "metadata": {},
   "outputs": [
    {
     "name": "stdout",
     "output_type": "stream",
     "text": [
      "                time   duration\n",
      "0         after noon  16.065379\n",
      "1            evening  14.893255\n",
      "2         late night  14.434924\n",
      "3  rush hour evening  17.074909\n",
      "4  rush hour morning  15.308145\n"
     ]
    },
    {
     "data": {
      "text/plain": [
       "<matplotlib.axes._subplots.AxesSubplot at 0x21b29dee780>"
      ]
     },
     "execution_count": 12,
     "metadata": {},
     "output_type": "execute_result"
    },
    {
     "data": {
      "image/png": "[encoded data removed]",
      "text/plain": [
       "<Figure size 432x288 with 1 Axes>"
      ]
     },
     "metadata": {
      "needs_background": "light"
     },
     "output_type": "display_data"
    }
   ],
   "source": [
    "mean_dur = taxi[['duration','time']].groupby(['time'], as_index=False).mean()\n",
    "print(mean_dur)\n",
    "mean_dur.plot(kind='bar')"
   ]
  },
  {
   "cell_type": "code",
   "execution_count": 13,
   "metadata": {},
   "outputs": [
    {
     "name": "stdout",
     "output_type": "stream",
     "text": [
      "14.973369633988142 16.64640640522481\n",
      "Reject Null Hypothesis!\n"
     ]
    }
   ],
   "source": [
    "#single customers have shorter distance, p<0.05\n",
    "from scipy.stats import ttest_ind\n",
    "single = taxi.passenger_count<=1;\n",
    "couple = taxi.passenger_count>1;\n",
    "\n",
    "print (taxi[single].duration.mean(), taxi[couple].duration.mean())\n",
    "ttest = ttest_ind(taxi[single].distance, taxi[couple].distance)\n",
    "\n",
    "p = ttest[1]\n",
    "\n",
    "if p >= 0.05:\n",
    "    print ('Null Cannot Be Rejected')\n",
    "else:\n",
    "    print ('Reject Null Hypothesis!')"
   ]
  },
  {
   "cell_type": "code",
   "execution_count": 14,
   "metadata": {},
   "outputs": [
    {
     "name": "stdout",
     "output_type": "stream",
     "text": [
      "15.687140044646261 14.890360277313633\n",
      "Reject Null Hypothesis!\n"
     ]
    }
   ],
   "source": [
    "def isweekday(d):\n",
    "    return parse_time(d).weekday()<=4\n",
    "\n",
    "from scipy.stats import ttest_ind\n",
    "weekday = [isweekday(i) for i in taxi.pickup_datetime]\n",
    "weekend = [isweekday(i)==0 for i in taxi.pickup_datetime]\n",
    "# in weekdays customers had gone longer distances \n",
    "# p is less than 0.05, so we rejected the hypothesis\n",
    "print (taxi[weekday].duration.mean(), taxi[weekend].duration.mean())\n",
    "\n",
    "ttest = ttest_ind(taxi[weekday].distance, taxi[weekend].distance)\n",
    "p = ttest[1]\n",
    "\n",
    "if p >= 0.05:\n",
    "    print ('Null Cannot Be Rejected')\n",
    "else:\n",
    "    print ('Reject Null Hypothesis!')"
   ]
  }
 ],
 "metadata": {
  "kernelspec": {
   "display_name": "Python 3",
   "language": "python",
   "name": "python3"
  },
  "language_info": {
   "codemirror_mode": {
    "name": "ipython",
    "version": 3
   },
   "file_extension": ".py",
   "mimetype": "text/x-python",
   "name": "python",
   "nbconvert_exporter": "python",
   "pygments_lexer": "ipython3",
   "version": "3.7.1"
  }
 },
 "nbformat": 4,
 "nbformat_minor": 2
}
